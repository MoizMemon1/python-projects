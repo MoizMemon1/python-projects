{
 "cells": [
  {
   "cell_type": "code",
   "execution_count": 1,
   "id": "342f4705",
   "metadata": {},
   "outputs": [
    {
     "name": "stdout",
     "output_type": "stream",
     "text": [
      "Twinkle, twinkle, little star,\n",
      " \t How I wonder what you are! \n",
      " \t \t Up above the world so high, \n",
      " \t \t Like a diamond in the sky.\n",
      " \t Twinkle,twinkle,little star,\n",
      " How I wonder what you are\n"
     ]
    }
   ],
   "source": [
    "print(\"Twinkle, twinkle, little star,\\n \\t How I wonder what you are! \\n \\t \\t Up above the world so high, \\n \\t \\t Like a diamond in the sky.\\n \\t Twinkle,twinkle,little star,\\n How I wonder what you are\")\n"
   ]
  },
  {
   "cell_type": "code",
   "execution_count": 2,
   "id": "c027dad9",
   "metadata": {},
   "outputs": [
    {
     "name": "stdout",
     "output_type": "stream",
     "text": [
      "python version\n",
      "3.8.8 (default, Apr 13 2021, 15:08:03) [MSC v.1916 64 bit (AMD64)]\n",
      "version info.\n",
      "sys.version_info(major=3, minor=8, micro=8, releaselevel='final', serial=0)\n"
     ]
    }
   ],
   "source": [
    "import sys\n",
    "print(\"python version\")\n",
    "print(sys.version)\n",
    "print(\"version info.\")\n",
    "print(sys.version_info)\n",
    "\n"
   ]
  },
  {
   "cell_type": "code",
   "execution_count": 3,
   "id": "1cd05d06",
   "metadata": {},
   "outputs": [
    {
     "name": "stdout",
     "output_type": "stream",
     "text": [
      "current date and time is:\n",
      "21-10-24 00:41:58\n"
     ]
    }
   ],
   "source": [
    "import datetime\n",
    "\n",
    "now = datetime.datetime.now()\n",
    "print(\"current date and time is:\")\n",
    "print(now.strftime(\"%y-%m-%d %H:%M:%S\"))"
   ]
  },
  {
   "cell_type": "code",
   "execution_count": 4,
   "id": "a8b1d965",
   "metadata": {},
   "outputs": [
    {
     "name": "stdout",
     "output_type": "stream",
     "text": [
      "Eter the radius of the circle: 2\n",
      "the area of the circle is 12.56636\n"
     ]
    }
   ],
   "source": [
    "CONSTANT_PI = 3.14159\n",
    "\n",
    "radius = int(input(\"Eter the radius of the circle: \"))\n",
    "area = CONSTANT_PI * radius**2\n",
    "\n",
    "print(\"the area of the circle is\" , area)"
   ]
  },
  {
   "cell_type": "code",
   "execution_count": 5,
   "id": "bb1c98a7",
   "metadata": {},
   "outputs": [
    {
     "name": "stdout",
     "output_type": "stream",
     "text": [
      "Enter Your First Name: moiz\n",
      "Enter Your Last Name: memon\n",
      "Hello:moizmemon\n"
     ]
    }
   ],
   "source": [
    "FirstName = input(\"Enter Your First Name: \")\n",
    "LastName = input(\"Enter Your Last Name: \")\n",
    "print(\"Hello:\" + FirstName + \"\" + LastName)"
   ]
  },
  {
   "cell_type": "code",
   "execution_count": 6,
   "id": "c488eed8",
   "metadata": {},
   "outputs": [
    {
     "name": "stdout",
     "output_type": "stream",
     "text": [
      "Enter Number 1:1\n",
      "Enter Number 1:1\n",
      "sum 2\n"
     ]
    }
   ],
   "source": [
    "a=int(input(\"Enter Number 1:\"))\n",
    "\n",
    "b=int(input(\"Enter Number 1:\"))\n",
    "\n",
    "print(\"sum\",a+b)"
   ]
  },
  {
   "cell_type": "code",
   "execution_count": 7,
   "id": "347cb78a",
   "metadata": {},
   "outputs": [
    {
     "name": "stdout",
     "output_type": "stream",
     "text": [
      "Enter marks for Enlish : 1\n",
      "Enter marks for Urdu : 1\n",
      "Enter marks for Maths : 1\n",
      "Enter marks for Sst : 1\n",
      "Enter marks for Science : 1\n",
      "Total marks :  5\n",
      "Percentage :  1.0\n",
      "Grade :  Reappear\n"
     ]
    }
   ],
   "source": [
    "'''\n",
    "85>= 'A'\n",
    "75>= 'B'\n",
    ">=50 'C'\n",
    ">=30 'D'\n",
    "Reappear\n",
    "'''\n",
    "h =int (input (\"Enter marks for Enlish : \"))\n",
    "e =int (input (\"Enter marks for Urdu : \"))\n",
    "m =int (input (\"Enter marks for Maths : \"))\n",
    "s =int (input (\"Enter marks for Sst : \"))\n",
    "u =int (input (\"Enter marks for Science : \"))\n",
    "\n",
    "tot= h+e+m+s+u\n",
    "per=tot/5\n",
    "\n",
    "if per>=85 :\n",
    "    grade='A'\n",
    "elif per>=75 :\n",
    "    grade='B'\n",
    "elif per>=50 :\n",
    "    grade='C'\n",
    "elif per>=30 :\n",
    "    grade='D'\n",
    "else :grade=\"Reappear\"\n",
    "\n",
    "print (\"Total marks : \",tot)\n",
    "print (\"Percentage : \",per)\n",
    "print (\"Grade : \",grade)"
   ]
  },
  {
   "cell_type": "code",
   "execution_count": 8,
   "id": "62d7050f",
   "metadata": {},
   "outputs": [
    {
     "name": "stdout",
     "output_type": "stream",
     "text": [
      "Enter a number: 2\n",
      "This is an even number.\n"
     ]
    }
   ],
   "source": [
    "num = int(input(\"Enter a number: \"))\n",
    "mod = num % 2\n",
    "if mod > 0:\n",
    "    print(\"This is an odd number.\")\n",
    "else:\n",
    "    print(\"This is an even number.\")"
   ]
  },
  {
   "cell_type": "code",
   "execution_count": 9,
   "id": "ec3e0a2d",
   "metadata": {},
   "outputs": [
    {
     "name": "stdout",
     "output_type": "stream",
     "text": [
      "The lentgh of the list is: 5\n"
     ]
    }
   ],
   "source": [
    "list_number = [6, 3, 8, 0 ,6]\n",
    "\n",
    "length = len(list_number)\n",
    "print(\"The lentgh of the list is: \" + str(length))"
   ]
  },
  {
   "cell_type": "code",
   "execution_count": 10,
   "id": "0eb2bbdf",
   "metadata": {},
   "outputs": [
    {
     "name": "stdout",
     "output_type": "stream",
     "text": [
      "-5\n"
     ]
    }
   ],
   "source": [
    "def sum_list(items):\n",
    "    sum_numbers = 0\n",
    "    for x in items:\n",
    "        sum_numbers += x\n",
    "    return sum_numbers\n",
    "print(sum_list([1,2,-8]))"
   ]
  },
  {
   "cell_type": "code",
   "execution_count": 11,
   "id": "5b7bb4d0",
   "metadata": {},
   "outputs": [
    {
     "name": "stdout",
     "output_type": "stream",
     "text": [
      "1\n"
     ]
    }
   ],
   "source": [
    "def max_num_in_list( list ):\n",
    "    max = list[ 0 ]\n",
    "    for a in list:\n",
    "        if a > max:\n",
    "            max = a\n",
    "    return max\n",
    "print(max_num_in_list([1, -5, -8, 0]))"
   ]
  },
  {
   "cell_type": "code",
   "execution_count": 12,
   "id": "b332acde",
   "metadata": {},
   "outputs": [
    {
     "name": "stdout",
     "output_type": "stream",
     "text": [
      " The question is :-\n",
      " Take a list, say for example this one:\n",
      "\n",
      "  a = [1, 1, 2, 3, 5, 8, 13, 21, 34, 55, 89]\n",
      "\n",
      "and write a program that prints out all the elements of the list that are less than 5.\n",
      "           And i will program accordingly.\n",
      "\n",
      "1\n",
      "\n",
      "1\n",
      "\n",
      "2\n",
      "\n",
      "3\n",
      "\n"
     ]
    }
   ],
   "source": [
    "print (\"\"\" The question is :-\\n Take a list, say for example this one:\\n\n",
    "  a = [1, 1, 2, 3, 5, 8, 13, 21, 34, 55, 89]\\n\n",
    "and write a program that prints out all the elements of the list that are less than 5.\n",
    "           And i will program accordingly.\\n\"\"\")\n",
    "\n",
    "test_list= [1, 1, 2, 3, 5, 8, 13, 21, 34, 55, 89]\n",
    "for element in test_list:\n",
    "    if(int(element) <5):\n",
    "        print(str(element)+\"\\n\")"
   ]
  },
  {
   "cell_type": "code",
   "execution_count": null,
   "id": "5b4f80d0",
   "metadata": {},
   "outputs": [],
   "source": []
  }
 ],
 "metadata": {
  "kernelspec": {
   "display_name": "Python 3",
   "language": "python",
   "name": "python3"
  },
  "language_info": {
   "codemirror_mode": {
    "name": "ipython",
    "version": 3
   },
   "file_extension": ".py",
   "mimetype": "text/x-python",
   "name": "python",
   "nbconvert_exporter": "python",
   "pygments_lexer": "ipython3",
   "version": "3.8.8"
  }
 },
 "nbformat": 4,
 "nbformat_minor": 5
}
